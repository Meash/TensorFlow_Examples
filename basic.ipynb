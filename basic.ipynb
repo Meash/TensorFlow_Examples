{
 "cells": [
  {
   "cell_type": "code",
   "execution_count": 1,
   "metadata": {},
   "outputs": [],
   "source": [
    "import tensorflow as tf"
   ]
  },
  {
   "cell_type": "code",
   "execution_count": 2,
   "metadata": {},
   "outputs": [
    {
     "name": "stdout",
     "output_type": "stream",
     "text": [
      "Hello, Tensorflow!\n"
     ]
    }
   ],
   "source": [
    "with tf.Session() as sess:\n",
    "    s = tf.constant(\"Hello, Tensorflow!\")\n",
    "    print sess.run(s)"
   ]
  },
  {
   "cell_type": "code",
   "execution_count": null,
   "metadata": {},
   "outputs": [],
   "source": [
    "with tf.Session() as sess:\n",
    "    a = tf.constant(3)\n",
    "    b = tf.constant(5)\n",
    "    add_op = tf.add(a, b)\n",
    "    print sess.run(a), \"+\", sess.run(b), \"is\", sess.run(add_op)"
   ]
  },
  {
   "cell_type": "code",
   "execution_count": null,
   "metadata": {},
   "outputs": [],
   "source": [
    ""
   ]
  }
 ],
 "metadata": {},
 "nbformat": 4,
 "nbformat_minor": 0
}