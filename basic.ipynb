{
 "cells": [
  {
   "cell_type": "code",
   "execution_count": 1,
   "metadata": {},
   "outputs": [],
   "source": [
    "import tensorflow as tf"
   ]
  },
  {
   "cell_type": "code",
   "execution_count": 2,
   "metadata": {},
   "outputs": [
    {
     "name": "stdout",
     "output_type": "stream",
     "text": [
      "Hello, Tensorflow!\n"
     ]
    }
   ],
   "source": [
    "with tf.Session() as sess:\n",
    "    s = tf.constant(\"Hello, Tensorflow!\")\n",
    "    print sess.run(s)"
   ]
  },
  {
   "cell_type": "code",
   "execution_count": 3,
   "metadata": {},
   "outputs": [
    {
     "name": "stdout",
     "output_type": "stream",
     "text": [
      "3 + 5 is 8\n"
     ]
    }
   ],
   "source": [
    "with tf.Session() as sess:\n",
    "    a = tf.constant(3)\n",
    "    b = tf.constant(5)\n",
    "    add_op = tf.add(a, b)\n",
    "    print sess.run(a), \"+\", sess.run(b), \"is\", sess.run(add_op)"
   ]
  }
 ],
 "metadata": {},
 "nbformat": 4,
 "nbformat_minor": 0
}