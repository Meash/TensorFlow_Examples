{
 "cells": [
  {
   "cell_type": "code",
   "execution_count": 1,
   "metadata": {},
   "outputs": [],
   "source": [
    "# Recognize handwritten digits using the MNIST dataset\n",
    "# \n",
    "# First Version from: https://github.com/aymericdamien/TensorFlow-Examples/"
   ]
  },
  {
   "cell_type": "code",
   "execution_count": 2,
   "metadata": {},
   "outputs": [
    {
     "name": "stdout",
     "output_type": "stream",
     "text": [
      "Extracting MNIST_data/train-images-idx3-ubyte.gz\nExtracting"
     ]
    },
    {
     "name": "stdout",
     "output_type": "stream",
     "text": [
      " MNIST_data/train-labels-idx1-ubyte.gz\nExtracting MNIST_data/t10k-images-idx3-ubyte.gz\nExtracting"
     ]
    },
    {
     "name": "stdout",
     "output_type": "stream",
     "text": [
      " MNIST_data/t10k-labels-idx1-ubyte.gz\n"
     ]
    }
   ],
   "source": [
    "# Import MINST data\n",
    "from tensorflow.examples.tutorials.mnist import input_data\n",
    "mnist = input_data.read_data_sets(\"MNIST_data/\", one_hot=True)"
   ]
  },
  {
   "cell_type": "code",
   "execution_count": 3,
   "metadata": {},
   "outputs": [],
   "source": [
    "import tensorflow as tf"
   ]
  },
  {
   "cell_type": "code",
   "execution_count": 4,
   "metadata": {},
   "outputs": [],
   "source": [
    "# Parameters\n",
    "learning_rate = 0.001\n",
    "training_iters = 100000\n",
    "batch_size = 128\n",
    "display_step = 20"
   ]
  },
  {
   "cell_type": "code",
   "execution_count": 5,
   "metadata": {},
   "outputs": [],
   "source": [
    "# Network Parameters\n",
    "n_input = 784 # MNIST data input (img shape: 28*28)\n",
    "n_classes = 10 # MNIST total classes (0-9 digits)\n",
    "dropout = 0.75 # Dropout, probability to keep units"
   ]
  },
  {
   "cell_type": "code",
   "execution_count": 6,
   "metadata": {},
   "outputs": [],
   "source": [
    "# tf Graph input\n",
    "x = tf.placeholder(tf.float32, [None, n_input])\n",
    "y = tf.placeholder(tf.float32, [None, n_classes])\n",
    "keep_prob = tf.placeholder(tf.float32) #dropout (keep probability)"
   ]
  },
  {
   "cell_type": "code",
   "execution_count": 7,
   "metadata": {},
   "outputs": [],
   "source": [
    "# Create model\n",
    "def conv2d(img, w, b):\n",
    "    return tf.nn.relu(tf.nn.bias_add(tf.nn.conv2d(img, w, strides=[1, 1, 1, 1], \n",
    "                                                  padding='SAME'),b))\n",
    "\n",
    "def max_pool(img, k):\n",
    "    return tf.nn.max_pool(img, ksize=[1, k, k, 1], strides=[1, k, k, 1], padding='SAME')\n",
    "\n",
    "def conv_net(_X, _weights, _biases, _dropout):\n",
    "    # Reshape input picture\n",
    "    _X = tf.reshape(_X, shape=[-1, 28, 28, 1])\n",
    "\n",
    "    # Convolution Layer\n",
    "    conv1 = conv2d(_X, _weights['wc1'], _biases['bc1'])\n",
    "    # Max Pooling (down-sampling)\n",
    "    conv1 = max_pool(conv1, k=2)\n",
    "    # Apply Dropout\n",
    "    conv1 = tf.nn.dropout(conv1, _dropout)\n",
    "\n",
    "    # Convolution Layer\n",
    "    conv2 = conv2d(conv1, _weights['wc2'], _biases['bc2'])\n",
    "    # Max Pooling (down-sampling)\n",
    "    conv2 = max_pool(conv2, k=2)\n",
    "    # Apply Dropout\n",
    "    conv2 = tf.nn.dropout(conv2, _dropout)\n",
    "\n",
    "    # Fully connected layer\n",
    "    # Reshape conv2 output to fit dense layer input\n",
    "    dense1 = tf.reshape(conv2, [-1, _weights['wd1'].get_shape().as_list()[0]]) \n",
    "    # Relu activation\n",
    "    dense1 = tf.nn.relu(tf.add(tf.matmul(dense1, _weights['wd1']), _biases['bd1']))\n",
    "    # Apply Dropout\n",
    "    dense1 = tf.nn.dropout(dense1, _dropout) # Apply Dropout\n",
    "\n",
    "    # Output, class prediction\n",
    "    out = tf.add(tf.matmul(dense1, _weights['out']), _biases['out'])\n",
    "    return out"
   ]
  },
  {
   "cell_type": "code",
   "execution_count": 8,
   "metadata": {},
   "outputs": [],
   "source": [
    "# Store layers weight & bias\n",
    "weights = {\n",
    "    # 5x5 conv, 1 input, 32 outputs\n",
    "    'wc1': tf.Variable(tf.random_normal([5, 5, 1, 32])), \n",
    "    # 5x5 conv, 32 inputs, 64 outputs\n",
    "    'wc2': tf.Variable(tf.random_normal([5, 5, 32, 64])), \n",
    "    # fully connected, 7*7*64 inputs, 1024 outputs\n",
    "    'wd1': tf.Variable(tf.random_normal([7*7*64, 1024])), \n",
    "    # 1024 inputs, 10 outputs (class prediction)\n",
    "    'out': tf.Variable(tf.random_normal([1024, n_classes])) \n",
    "}\n",
    "\n",
    "biases = {\n",
    "    'bc1': tf.Variable(tf.random_normal([32])),\n",
    "    'bc2': tf.Variable(tf.random_normal([64])),\n",
    "    'bd1': tf.Variable(tf.random_normal([1024])),\n",
    "    'out': tf.Variable(tf.random_normal([n_classes]))\n",
    "}"
   ]
  },
  {
   "cell_type": "code",
   "execution_count": 9,
   "metadata": {},
   "outputs": [],
   "source": [
    "# Construct model\n",
    "pred = conv_net(x, weights, biases, keep_prob)"
   ]
  },
  {
   "cell_type": "code",
   "execution_count": 10,
   "metadata": {},
   "outputs": [],
   "source": [
    "# Define loss and optimizer\n",
    "cost = tf.reduce_mean(tf.nn.softmax_cross_entropy_with_logits(pred, y))\n",
    "optimizer = tf.train.AdamOptimizer(learning_rate=learning_rate).minimize(cost)"
   ]
  },
  {
   "cell_type": "code",
   "execution_count": 11,
   "metadata": {},
   "outputs": [],
   "source": [
    "# Evaluate model\n",
    "correct_pred = tf.equal(tf.argmax(pred,1), tf.argmax(y,1))\n",
    "accuracy = tf.reduce_mean(tf.cast(correct_pred, tf.float32))"
   ]
  },
  {
   "cell_type": "code",
   "execution_count": 12,
   "metadata": {},
   "outputs": [],
   "source": [
    "# Initializing the variables\n",
    "init = tf.initialize_all_variables()"
   ]
  },
  {
   "cell_type": "code",
   "execution_count": 13,
   "metadata": {},
   "outputs": [
    {
     "name": "stdout",
     "output_type": "stream",
     "text": [
      "Iter 2560, Minibatch Loss= 13346.587891, Training Accuracy= 0.43750\nIter 5120, Minibatch Loss= 4955.705566, Training Accuracy= 0.68750"
     ]
    },
    {
     "name": "stdout",
     "output_type": "stream",
     "text": [
      "\nIter 7680, Minibatch Loss= 10026.937500, Training Accuracy= 0.63281"
     ]
    },
    {
     "name": "stdout",
     "output_type": "stream",
     "text": [
      "\nIter 10240, Minibatch Loss= 4911.955078, Training Accuracy= 0.75000"
     ]
    },
    {
     "name": "stdout",
     "output_type": "stream",
     "text": [
      "\nIter 12800, Minibatch Loss= 6310.080078, Training Accuracy= 0.67188"
     ]
    },
    {
     "name": "stdout",
     "output_type": "stream",
     "text": [
      "\nIter 15360, Minibatch Loss= 3313.944580, Training Accuracy= 0.81250"
     ]
    },
    {
     "name": "stdout",
     "output_type": "stream",
     "text": [
      "\nIter 17920, Minibatch Loss= 2526.882324, Training Accuracy= 0.82031"
     ]
    },
    {
     "name": "stdout",
     "output_type": "stream",
     "text": [
      "\nIter 20480, Minibatch Loss= 2490.235840, Training Accuracy= 0.84375"
     ]
    },
    {
     "name": "stdout",
     "output_type": "stream",
     "text": [
      "\nIter 23040, Minibatch Loss= 1260.552002, Training Accuracy= 0.88281"
     ]
    },
    {
     "name": "stdout",
     "output_type": "stream",
     "text": [
      "\nIter 25600, Minibatch Loss= 1603.818604, Training Accuracy= 0.85156"
     ]
    },
    {
     "name": "stdout",
     "output_type": "stream",
     "text": [
      "\nIter 28160, Minibatch Loss= 1257.868774, Training Accuracy= 0.90625"
     ]
    },
    {
     "name": "stdout",
     "output_type": "stream",
     "text": [
      "\nIter 30720, Minibatch Loss= 1406.481079, Training Accuracy= 0.88281"
     ]
    },
    {
     "name": "stdout",
     "output_type": "stream",
     "text": [
      "\nIter 33280, Minibatch Loss= 1263.411255, Training Accuracy= 0.87500"
     ]
    },
    {
     "name": "stdout",
     "output_type": "stream",
     "text": [
      "\nIter 35840, Minibatch Loss= 1168.521240, Training Accuracy= 0.89844"
     ]
    },
    {
     "name": "stdout",
     "output_type": "stream",
     "text": [
      "\nIter 38400, Minibatch Loss= 422.869293, Training Accuracy= 0.92969"
     ]
    },
    {
     "name": "stdout",
     "output_type": "stream",
     "text": [
      "\nIter 40960, Minibatch Loss= 1703.538574, Training Accuracy= 0.86719"
     ]
    },
    {
     "name": "stdout",
     "output_type": "stream",
     "text": [
      "\nIter 43520, Minibatch Loss= 770.074951, Training Accuracy= 0.92969"
     ]
    },
    {
     "name": "stdout",
     "output_type": "stream",
     "text": [
      "\nIter 46080, Minibatch Loss= 933.650452, Training Accuracy= 0.91406"
     ]
    },
    {
     "name": "stdout",
     "output_type": "stream",
     "text": [
      "\nIter 48640, Minibatch Loss= 2195.859863, Training Accuracy= 0.86719"
     ]
    },
    {
     "name": "stdout",
     "output_type": "stream",
     "text": [
      "\nIter 51200, Minibatch Loss= 818.051270, Training Accuracy= 0.90625"
     ]
    },
    {
     "name": "stdout",
     "output_type": "stream",
     "text": [
      "\nIter 53760, Minibatch Loss= 240.680740, Training Accuracy= 0.96875"
     ]
    },
    {
     "name": "stdout",
     "output_type": "stream",
     "text": [
      "\nIter 56320, Minibatch Loss= 728.372986, Training Accuracy= 0.91406"
     ]
    },
    {
     "name": "stdout",
     "output_type": "stream",
     "text": [
      "\nIter 58880, Minibatch Loss= 835.291138, Training Accuracy= 0.91406"
     ]
    },
    {
     "name": "stdout",
     "output_type": "stream",
     "text": [
      "\nIter 61440, Minibatch Loss= 369.941101, Training Accuracy= 0.93750"
     ]
    },
    {
     "name": "stdout",
     "output_type": "stream",
     "text": [
      "\nIter 64000, Minibatch Loss= 858.111572, Training Accuracy= 0.89844"
     ]
    },
    {
     "name": "stdout",
     "output_type": "stream",
     "text": [
      "\nIter 66560, Minibatch Loss= 756.854858, Training Accuracy= 0.90625"
     ]
    },
    {
     "name": "stdout",
     "output_type": "stream",
     "text": [
      "\nIter 69120, Minibatch Loss= 936.437134, Training Accuracy= 0.89844"
     ]
    },
    {
     "name": "stdout",
     "output_type": "stream",
     "text": [
      "\nIter 71680, Minibatch Loss= 1561.940308, Training Accuracy= 0.90625"
     ]
    },
    {
     "name": "stdout",
     "output_type": "stream",
     "text": [
      "\nIter 74240, Minibatch Loss= 683.742126, Training Accuracy= 0.95312"
     ]
    },
    {
     "name": "stdout",
     "output_type": "stream",
     "text": [
      "\nIter 76800, Minibatch Loss= 613.756104, Training Accuracy= 0.93750"
     ]
    },
    {
     "name": "stdout",
     "output_type": "stream",
     "text": [
      "\nIter 79360, Minibatch Loss= 186.871231, Training Accuracy= 0.95312"
     ]
    },
    {
     "name": "stdout",
     "output_type": "stream",
     "text": [
      "\nIter 81920, Minibatch Loss= 470.468262, Training Accuracy= 0.94531"
     ]
    },
    {
     "name": "stdout",
     "output_type": "stream",
     "text": [
      "\nIter 84480, Minibatch Loss= 617.094238, Training Accuracy= 0.93750"
     ]
    },
    {
     "name": "stdout",
     "output_type": "stream",
     "text": [
      "\nIter 87040, Minibatch Loss= 460.859558, Training Accuracy= 0.92969"
     ]
    },
    {
     "name": "stdout",
     "output_type": "stream",
     "text": [
      "\nIter 89600, Minibatch Loss= 369.645630, Training Accuracy= 0.90625"
     ]
    },
    {
     "name": "stdout",
     "output_type": "stream",
     "text": [
      "\nIter 92160, Minibatch Loss= 382.573456, Training Accuracy= 0.93750"
     ]
    },
    {
     "name": "stdout",
     "output_type": "stream",
     "text": [
      "\nIter 94720, Minibatch Loss= 507.634247, Training Accuracy= 0.92969"
     ]
    },
    {
     "name": "stdout",
     "output_type": "stream",
     "text": [
      "\nIter 97280, Minibatch Loss= 566.620361, Training Accuracy= 0.92188"
     ]
    },
    {
     "name": "stdout",
     "output_type": "stream",
     "text": [
      "\nIter 99840, Minibatch Loss= 587.472656, Training Accuracy= 0.95312"
     ]
    },
    {
     "name": "stdout",
     "output_type": "stream",
     "text": [
      "\nOptimization Finished!"
     ]
    },
    {
     "name": "stdout",
     "output_type": "stream",
     "text": [
      "\nTesting Accuracy: "
     ]
    },
    {
     "name": "stdout",
     "output_type": "stream",
     "text": [
      "0.953125\n"
     ]
    }
   ],
   "source": [
    "# Launch the graph\n",
    "with tf.Session() as sess:\n",
    "    sess.run(init)\n",
    "    step = 1\n",
    "    # Keep training until reach max iterations\n",
    "    while step * batch_size < training_iters:\n",
    "        batch_xs, batch_ys = mnist.train.next_batch(batch_size)\n",
    "        # Fit training using batch data\n",
    "        sess.run(optimizer, feed_dict={x: batch_xs, y: batch_ys, keep_prob: dropout})\n",
    "        if step % display_step == 0:\n",
    "            # Calculate batch accuracy\n",
    "            acc = sess.run(accuracy, feed_dict={x: batch_xs, y: batch_ys, keep_prob: 1.})\n",
    "            # Calculate batch loss\n",
    "            loss = sess.run(cost, feed_dict={x: batch_xs, y: batch_ys, keep_prob: 1.})\n",
    "            print \"Iter \" + str(step*batch_size) + \", Minibatch Loss= \" + \\\n",
    "                  \"{:.6f}\".format(loss) + \", Training Accuracy= \" + \"{:.5f}\".format(acc)\n",
    "        step += 1\n",
    "    print \"Optimization Finished!\"\n",
    "    # Calculate accuracy for 256 mnist test images\n",
    "    print \"Testing Accuracy:\", sess.run(accuracy, feed_dict={x: mnist.test.images[:256], \n",
    "                                                             y: mnist.test.labels[:256], \n",
    "                                                             keep_prob: 1.})"
   ]
  },
  {
   "cell_type": "code",
   "execution_count": null,
   "metadata": {},
   "outputs": [],
   "source": [
    ""
   ]
  }
 ],
 "metadata": {
  "kernelspec": {
   "display_name": "IPython (Python 2.7)",
   "language": "python",
   "name": "python2"
  },
  "language_info": {
   "codemirror_mode": {
    "name": "ipython",
    "version": 2.0
   },
   "file_extension": ".py",
   "mimetype": "text/x-python",
   "name": "python",
   "nbconvert_exporter": "python",
   "pygments_lexer": "ipython2",
   "version": "2.7.8"
  }
 },
 "nbformat": 4,
 "nbformat_minor": 0
}