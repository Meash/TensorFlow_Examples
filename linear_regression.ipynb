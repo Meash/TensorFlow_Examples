{
 "cells": [
  {
   "cell_type": "code",
   "execution_count": 1,
   "metadata": {},
   "outputs": [],
   "source": [
    "%matplotlib inline\n",
    "# Linear regression\n",
    "\n",
    "# Initial version from: https://github.com/aymericdamien/TensorFlow-Examples/"
   ]
  },
  {
   "cell_type": "code",
   "execution_count": 2,
   "metadata": {},
   "outputs": [],
   "source": [
    "import tensorflow as tf\n",
    "import numpy\n",
    "import matplotlib.pyplot as plt\n",
    "from IPython.display import Image\n",
    "rng = numpy.random"
   ]
  },
  {
   "cell_type": "code",
   "execution_count": 3,
   "metadata": {},
   "outputs": [],
   "source": [
    "# Parameters\n",
    "learning_rate = 0.01\n",
    "training_epochs = 2000\n",
    "display_step = 50"
   ]
  },
  {
   "cell_type": "code",
   "execution_count": 4,
   "metadata": {},
   "outputs": [],
   "source": [
    "# Training Data\n",
    "train_X = numpy.asarray([3.3,4.4,5.5,6.71,6.93,4.168,9.779,6.182,7.59,2.167,7.042,10.791,5.313,7.997,5.654,9.27,3.1])\n",
    "train_Y = numpy.asarray([1.7,2.76,2.09,3.19,1.694,1.573,3.366,2.596,2.53,1.221,2.827,3.465,1.65,2.904,2.42,2.94,1.3])\n",
    "n_samples = train_X.shape[0]"
   ]
  },
  {
   "cell_type": "code",
   "execution_count": 5,
   "metadata": {},
   "outputs": [
    {
     "data": {
      "image/png": "[encoded data removed]"
     },
     "output_type": "display_data",
     "text": [
      "<matplotlib.figure.Figure at 0x7f95380f9550>"
     ],
     "metadata": {}
    }
   ],
   "source": [
    "# Display Training Data\n",
    "plt.plot(train_X, train_Y, 'ro', label='Training data')\n",
    "plt.legend()\n",
    "plt.show()"
   ]
  },
  {
   "cell_type": "code",
   "execution_count": 6,
   "metadata": {},
   "outputs": [],
   "source": [
    "# tf Graph Input\n",
    "X = tf.placeholder(\"float\")\n",
    "Y = tf.placeholder(\"float\")"
   ]
  },
  {
   "cell_type": "code",
   "execution_count": 7,
   "metadata": {},
   "outputs": [],
   "source": [
    "# Create Model\n",
    "\n",
    "# Set model weights\n",
    "W = tf.Variable(rng.randn(), name=\"weight\")\n",
    "b = tf.Variable(rng.randn(), name=\"bias\")"
   ]
  },
  {
   "cell_type": "code",
   "execution_count": 8,
   "metadata": {},
   "outputs": [],
   "source": [
    "# Construct a linear model\n",
    "activation = tf.add(tf.mul(X, W), b)"
   ]
  },
  {
   "cell_type": "code",
   "execution_count": 9,
   "metadata": {},
   "outputs": [],
   "source": [
    "# Minimize the squared errors\n",
    "cost = tf.reduce_sum(tf.pow(activation-Y, 2))/(2*n_samples) #L2 loss\n",
    "optimizer = tf.train.GradientDescentOptimizer(learning_rate).minimize(cost) #Gradient descent"
   ]
  },
  {
   "cell_type": "code",
   "execution_count": 10,
   "metadata": {},
   "outputs": [],
   "source": [
    "# Initializing the variables\n",
    "init = tf.initialize_all_variables()"
   ]
  },
  {
   "cell_type": "code",
   "execution_count": 11,
   "metadata": {},
   "outputs": [
    {
     "name": "stdout",
     "output_type": "stream",
     "text": [
      "Epoch  0000 | cost= 29.6542 W= -0.6539 b= -0.9538\nEpoch "
     ]
    },
    {
     "name": "stdout",
     "output_type": "stream",
     "text": [
      " 0050 | cost= 0.2161 W= 0.4581 b= -0.6986\nEpoch "
     ]
    },
    {
     "name": "stdout",
     "output_type": "stream",
     "text": [
      " 0100 | cost= 0.2000 W= 0.4457 b= -0.6094\nEpoch "
     ]
    },
    {
     "name": "stdout",
     "output_type": "stream",
     "text": [
      " 0150 | cost= 0.1858 W= 0.4340 b= -0.5254\nEpoch "
     ]
    },
    {
     "name": "stdout",
     "output_type": "stream",
     "text": [
      " 0200 | cost= 0.1732 W= 0.4231 b= -0.4465\nEpoch "
     ]
    },
    {
     "name": "stdout",
     "output_type": "stream",
     "text": [
      " 0250 | cost= 0.1621 W= 0.4128 b= -0.3723\nEpoch "
     ]
    },
    {
     "name": "stdout",
     "output_type": "stream",
     "text": [
      " 0300 | cost= 0.1523 W= 0.4031 b= -0.3025\nEpoch "
     ]
    },
    {
     "name": "stdout",
     "output_type": "stream",
     "text": [
      " 0350 | cost= 0.1436 W= 0.3939 b= -0.2368\nEpoch "
     ]
    },
    {
     "name": "stdout",
     "output_type": "stream",
     "text": [
      " 0400 | cost= 0.1359 W= 0.3853 b= -0.1751\nEpoch "
     ]
    },
    {
     "name": "stdout",
     "output_type": "stream",
     "text": [
      " 0450 | cost= 0.1291 W= 0.3773 b= -0.1170\nEpoch "
     ]
    },
    {
     "name": "stdout",
     "output_type": "stream",
     "text": [
      " 0500 | cost= 0.1230 W= 0.3697 b= -0.0624\nEpoch "
     ]
    },
    {
     "name": "stdout",
     "output_type": "stream",
     "text": [
      " 0550 | cost= 0.1177 W= 0.3625 b= -0.0110\nEpoch "
     ]
    },
    {
     "name": "stdout",
     "output_type": "stream",
     "text": [
      " 0600 | cost= 0.1130 W= 0.3558 b= 0.0373\nEpoch "
     ]
    },
    {
     "name": "stdout",
     "output_type": "stream",
     "text": [
      " 0650 | cost= 0.1088 W= 0.3495 b= 0.0828\nEpoch "
     ]
    },
    {
     "name": "stdout",
     "output_type": "stream",
     "text": [
      " 0700 | cost= 0.1052 W= 0.3436 b= 0.1255\nEpoch "
     ]
    },
    {
     "name": "stdout",
     "output_type": "stream",
     "text": [
      " 0750 | cost= 0.1019 W= 0.3380 b= 0.1657\nEpoch "
     ]
    },
    {
     "name": "stdout",
     "output_type": "stream",
     "text": [
      " 0800 | cost= 0.0990 W= 0.3327 b= 0.2035\nEpoch "
     ]
    },
    {
     "name": "stdout",
     "output_type": "stream",
     "text": [
      " 0850 | cost= 0.0965 W= 0.3278 b= 0.2391\nEpoch "
     ]
    },
    {
     "name": "stdout",
     "output_type": "stream",
     "text": [
      " 0900 | cost= 0.0942 W= 0.3231 b= 0.2725\nEpoch "
     ]
    },
    {
     "name": "stdout",
     "output_type": "stream",
     "text": [
      " 0950 | cost= 0.0922 W= 0.3187 b= 0.3040\nEpoch "
     ]
    },
    {
     "name": "stdout",
     "output_type": "stream",
     "text": [
      " 1000 | cost= 0.0905 W= 0.3146 b= 0.3336\nEpoch "
     ]
    },
    {
     "name": "stdout",
     "output_type": "stream",
     "text": [
      " 1050 | cost= 0.0889 W= 0.3108 b= 0.3614\nEpoch "
     ]
    },
    {
     "name": "stdout",
     "output_type": "stream",
     "text": [
      " 1100 | cost= 0.0875 W= 0.3071 b= 0.3876\nEpoch "
     ]
    },
    {
     "name": "stdout",
     "output_type": "stream",
     "text": [
      " 1150 | cost= 0.0863 W= 0.3037 b= 0.4122\nEpoch "
     ]
    },
    {
     "name": "stdout",
     "output_type": "stream",
     "text": [
      " 1200 | cost= 0.0852 W= 0.3005 b= 0.4353\nEpoch "
     ]
    },
    {
     "name": "stdout",
     "output_type": "stream",
     "text": [
      " 1250 | cost= 0.0843 W= 0.2975 b= 0.4571\nEpoch "
     ]
    },
    {
     "name": "stdout",
     "output_type": "stream",
     "text": [
      " 1300 | cost= 0.0834 W= 0.2946 b= 0.4776\nEpoch "
     ]
    },
    {
     "name": "stdout",
     "output_type": "stream",
     "text": [
      " 1350 | cost= 0.0827 W= 0.2919 b= 0.4969\nEpoch "
     ]
    },
    {
     "name": "stdout",
     "output_type": "stream",
     "text": [
      " 1400 | cost= 0.0820 W= 0.2894 b= 0.5150\nEpoch "
     ]
    },
    {
     "name": "stdout",
     "output_type": "stream",
     "text": [
      " 1450 | cost= 0.0814 W= 0.2870 b= 0.5320\nEpoch "
     ]
    },
    {
     "name": "stdout",
     "output_type": "stream",
     "text": [
      " 1500 | cost= 0.0809 W= 0.2848 b= 0.5480\nEpoch "
     ]
    },
    {
     "name": "stdout",
     "output_type": "stream",
     "text": [
      " 1550 | cost= 0.0805 W= 0.2827 b= 0.5631\nEpoch "
     ]
    },
    {
     "name": "stdout",
     "output_type": "stream",
     "text": [
      " 1600 | cost= 0.0801 W= 0.2808 b= 0.5773\nEpoch "
     ]
    },
    {
     "name": "stdout",
     "output_type": "stream",
     "text": [
      " 1650 | cost= 0.0797 W= 0.2789 b= 0.5906\nEpoch "
     ]
    },
    {
     "name": "stdout",
     "output_type": "stream",
     "text": [
      " 1700 | cost= 0.0794 W= 0.2772 b= 0.6032\nEpoch "
     ]
    },
    {
     "name": "stdout",
     "output_type": "stream",
     "text": [
      " 1750 | cost= 0.0791 W= 0.2755 b= 0.6150\nEpoch "
     ]
    },
    {
     "name": "stdout",
     "output_type": "stream",
     "text": [
      " 1800 | cost= 0.0789 W= 0.2740 b= 0.6261\nEpoch "
     ]
    },
    {
     "name": "stdout",
     "output_type": "stream",
     "text": [
      " 1850 | cost= 0.0786 W= 0.2725 b= 0.6365\nEpoch "
     ]
    },
    {
     "name": "stdout",
     "output_type": "stream",
     "text": [
      " 1900 | cost= 0.0785 W= 0.2712 b= 0.6463\nEpoch "
     ]
    },
    {
     "name": "stdout",
     "output_type": "stream",
     "text": [
      " 1950 | cost= 0.0783 W= 0.2699 b= 0.6555\nTraining Finished!"
     ]
    },
    {
     "name": "stdout",
     "output_type": "stream",
     "text": [
      "\ncost= 0.0781 W= 0.2687 b= 0.6640\n"
     ]
    },
    {
     "data": {
      "image/png": "[encoded data removed]"
     },
     "output_type": "display_data",
     "text": [
      "<matplotlib.figure.Figure at 0x7f951c64fad0>"
     ],
     "metadata": {}
    }
   ],
   "source": [
    "# Launch the graph\n",
    "with tf.Session() as sess:\n",
    "    sess.run(init)\n",
    "\n",
    "    # Fit all training data\n",
    "    for epoch in range(training_epochs):\n",
    "        for (x, y) in zip(train_X, train_Y):\n",
    "            sess.run(optimizer, feed_dict={X: x, Y: y})\n",
    "\n",
    "        # Log\n",
    "        if epoch % display_step == 0:\n",
    "            print \"Epoch \", '%04d' % epoch, \\\n",
    "                \"| cost=\", \"{:.4f}\".format(sess.run(cost, feed_dict={X: train_X, Y:train_Y})), \\\n",
    "                \"W=\", \"{:.4f}\".format(sess.run(W)), \\\n",
    "                \"b=\", \"{:.4f}\".format(sess.run(b))\n",
    "\n",
    "    print \"Training Finished!\"\n",
    "    print \"cost=\", \"{:.4f}\".format(sess.run(cost, feed_dict={X: train_X, Y: train_Y})), \\\n",
    "          \"W=\", \"{:.4f}\".format(sess.run(W)), \\\n",
    "          \"b=\", \"{:.4f}\".format(sess.run(b))\n",
    "\n",
    "    # Plot\n",
    "    plt.plot(train_X, train_Y, 'ro', label='Training data')\n",
    "    plt.plot(train_X, sess.run(W) * train_X + sess.run(b), label='Fitted line')\n",
    "    plt.legend()\n",
    "    plt.show()"
   ]
  },
  {
   "cell_type": "code",
   "execution_count": 23,
   "metadata": {},
   "outputs": [],
   "source": [
    ""
   ]
  }
 ],
 "metadata": {
  "kernelspec": {
   "display_name": "IPython (Python 2.7)",
   "language": "python",
   "name": "python2"
  },
  "language_info": {
   "codemirror_mode": {
    "name": "ipython",
    "version": 2.0
   },
   "file_extension": ".py",
   "mimetype": "text/x-python",
   "name": "python",
   "nbconvert_exporter": "python",
   "pygments_lexer": "ipython2",
   "version": "2.7.8"
  }
 },
 "nbformat": 4,
 "nbformat_minor": 0
}