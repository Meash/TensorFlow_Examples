{
 "cells": [
  {
   "cell_type": "code",
   "execution_count": 1,
   "metadata": {},
   "outputs": [],
   "source": [
    "%matplotlib inline\n",
    "# Linear regression\n",
    "# Initial version from: https://github.com/aymericdamien/TensorFlow-Examples/"
   ]
  },
  {
   "cell_type": "code",
   "execution_count": 2,
   "metadata": {},
   "outputs": [],
   "source": [
    "import tensorflow as tf\n",
    "import numpy\n",
    "import matplotlib.pyplot as plt\n",
    "from IPython.display import Image\n",
    "rng = numpy.random"
   ]
  },
  {
   "cell_type": "code",
   "execution_count": 3,
   "metadata": {},
   "outputs": [],
   "source": [
    "# Hyper-Parameters\n",
    "learning_rate = 0.01\n",
    "training_epochs = 2000\n",
    "print_step = training_epochs / 5"
   ]
  },
  {
   "cell_type": "code",
   "execution_count": 4,
   "metadata": {},
   "outputs": [],
   "source": [
    "# Training Data\n",
    "train_X = numpy.asarray([3.3,4.4,5.5,6.71,6.93,4.168,9.779,6.182,7.59,2.167,7.042,10.791,5.313,7.997,5.654,9.27,3.1])\n",
    "train_Y = numpy.asarray([1.7,2.76,2.09,3.19,1.694,1.573,3.366,2.596,2.53,1.221,2.827,3.465,1.65,2.904,2.42,2.94,1.3])\n",
    "n_samples = train_X.shape[0]"
   ]
  },
  {
   "cell_type": "code",
   "execution_count": 5,
   "metadata": {},
   "outputs": [
    {
     "data": {
      "image/png": "[encoded data removed]"
     },
     "output_type": "display_data",
     "text": [
      "<matplotlib.figure.Figure at 0x7f96c8b3e790>"
     ],
     "metadata": {}
    }
   ],
   "source": [
    "# Display Training Data\n",
    "plt.plot(train_X, train_Y, 'ro', label='Training data')\n",
    "plt.legend()\n",
    "plt.show()"
   ]
  },
  {
   "cell_type": "code",
   "execution_count": 6,
   "metadata": {},
   "outputs": [],
   "source": [
    "# Input\n",
    "X = tf.placeholder(\"float\", name=\"X\")\n",
    "Y = tf.placeholder(\"float\", name=\"Y\")"
   ]
  },
  {
   "cell_type": "code",
   "execution_count": 7,
   "metadata": {},
   "outputs": [],
   "source": [
    "# Variables\n",
    "W = tf.Variable(rng.randn(), name=\"weight\")\n",
    "b = tf.Variable(rng.randn(), name=\"bias\")"
   ]
  },
  {
   "cell_type": "code",
   "execution_count": 8,
   "metadata": {},
   "outputs": [],
   "source": [
    "# Construct a linear model\n",
    "activation = tf.add(tf.mul(X, W), b)"
   ]
  },
  {
   "cell_type": "code",
   "execution_count": 9,
   "metadata": {},
   "outputs": [],
   "source": [
    "# Minimize the squared errors\n",
    "cost = tf.reduce_sum(tf.pow(activation-Y, 2))/(2*n_samples) #L2 loss\n",
    "optimizer = tf.train.GradientDescentOptimizer(learning_rate).minimize(cost) #Gradient descent"
   ]
  },
  {
   "cell_type": "code",
   "execution_count": 10,
   "metadata": {},
   "outputs": [],
   "source": [
    "# Evaluation\n",
    "sess = tf.Session()\n",
    "tf.scalar_summary('cost', cost)\n",
    "merged_summaries = tf.merge_all_summaries()\n",
    "summary_writer = tf.train.SummaryWriter(\"/tmp/linear_regression\", sess.graph_def)"
   ]
  },
  {
   "cell_type": "code",
   "execution_count": 11,
   "metadata": {},
   "outputs": [],
   "source": [
    "# Initializing the variables\n",
    "init = tf.initialize_all_variables()\n",
    "sess.run(init)"
   ]
  },
  {
   "cell_type": "code",
   "execution_count": 12,
   "metadata": {},
   "outputs": [
    {
     "name": "stdout",
     "output_type": "stream",
     "text": [
      "Epoch  0000 | cost= 0.2376 W= 0.4833 b= -0.4794\nEpoch "
     ]
    },
    {
     "name": "stdout",
     "output_type": "stream",
     "text": [
      " 0400 | cost= 0.1156 W= 0.3632 b= 0.0081\nEpoch "
     ]
    },
    {
     "name": "stdout",
     "output_type": "stream",
     "text": [
      " 0800 | cost= 0.0916 W= 0.3202 b= 0.3124\nEpoch "
     ]
    },
    {
     "name": "stdout",
     "output_type": "stream",
     "text": [
      " 1200 | cost= 0.0825 W= 0.2938 b= 0.4996\nEpoch "
     ]
    },
    {
     "name": "stdout",
     "output_type": "stream",
     "text": [
      " 1600 | cost= 0.0790 W= 0.2776 b= 0.6147\nTraining Finished!"
     ]
    },
    {
     "name": "stdout",
     "output_type": "stream",
     "text": [
      "\ncost= 0.08 W= 0.2676 b= 0.6854\n"
     ]
    }
   ],
   "source": [
    "# Run: fit training data\n",
    "for epoch in range(training_epochs):\n",
    "    result = sess.run([merged_summaries, optimizer], feed_dict={X: train_X, Y: train_Y})\n",
    "    \n",
    "    # Log\n",
    "    summary_str = result[0]\n",
    "    summary_writer.add_summary(summary_str, epoch)\n",
    "    if epoch % print_step == 0:\n",
    "        print \"Epoch \", '%04d' % epoch, \\\n",
    "            \"| cost=\", \"{:.4f}\".format(sess.run(cost, feed_dict={X: train_X, Y: train_Y})), \\\n",
    "            \"W=\", \"{:.4f}\".format(sess.run(W)), \\\n",
    "            \"b=\", \"{:.4f}\".format(sess.run(b))\n",
    "\n",
    "print \"Training Finished!\"\n",
    "print \"cost=\", \"{:.2f}\".format(sess.run(cost, feed_dict={X: train_X, Y: train_Y})), \\\n",
    "    \"W=\", \"{:.4f}\".format(sess.run(W)), \\\n",
    "    \"b=\", \"{:.4f}\".format(sess.run(b))"
   ]
  },
  {
   "cell_type": "code",
   "execution_count": 13,
   "metadata": {},
   "outputs": [
    {
     "data": {
      "image/png": "[encoded data removed]"
     },
     "output_type": "display_data",
     "text": [
      "<matplotlib.figure.Figure at 0x7f96c8b3e710>"
     ],
     "metadata": {}
    }
   ],
   "source": [
    "# Plot\n",
    "plt.plot(train_X, train_Y, 'ro', label='Training data')\n",
    "plt.plot(train_X, sess.run(W) * train_X + sess.run(b), label='Fitted line')\n",
    "plt.legend()\n",
    "plt.show()"
   ]
  },
  {
   "cell_type": "code",
   "execution_count": 14,
   "metadata": {},
   "outputs": [],
   "source": [
    "sess.close()"
   ]
  }
 ],
 "metadata": {
  "kernelspec": {
   "display_name": "IPython (Python 2.7)",
   "language": "python",
   "name": "python2"
  },
  "language_info": {
   "codemirror_mode": {
    "name": "ipython",
    "version": 2.0
   },
   "file_extension": ".py",
   "mimetype": "text/x-python",
   "name": "python",
   "nbconvert_exporter": "python",
   "pygments_lexer": "ipython2",
   "version": "2.7.8"
  }
 },
 "nbformat": 4,
 "nbformat_minor": 0
}